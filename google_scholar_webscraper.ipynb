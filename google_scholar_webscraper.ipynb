{
  "nbformat": 4,
  "nbformat_minor": 0,
  "metadata": {
    "colab": {
      "name": "google-scholar-webscraper.ipynb",
      "provenance": [],
      "collapsed_sections": [],
      "toc_visible": true
    },
    "kernelspec": {
      "name": "python3",
      "display_name": "Python 3"
    },
    "language_info": {
      "name": "python"
    }
  },
  "cells": [
    {
      "cell_type": "markdown",
      "source": [
        "# Intro"
      ],
      "metadata": {
        "id": "yN1EOt9c3h_N"
      }
    },
    {
      "cell_type": "markdown",
      "source": [
        "ref: https://dev.to/dmitryzub/scrape-google-scholar-with-python-32oh \n",
        "pip install requests\n",
        "$ pip install lxml \n",
        "$ pip install beautifulsoup4\n",
        "$ pip install google-search-results "
      ],
      "metadata": {
        "id": "TT1ySjCC3Jcc"
      }
    },
    {
      "cell_type": "markdown",
      "source": [
        "# Import Libraries"
      ],
      "metadata": {
        "id": "BIVtV2mr3pNt"
      }
    },
    {
      "cell_type": "code",
      "source": [
        "from bs4 import BeautifulSoup\n",
        "import requests, lxml, os, json"
      ],
      "metadata": {
        "id": "3gC8xG863d51"
      },
      "execution_count": null,
      "outputs": []
    },
    {
      "cell_type": "markdown",
      "source": [
        "# Headers & Parameters"
      ],
      "metadata": {
        "id": "uKd9QP1v3td1"
      }
    },
    {
      "cell_type": "code",
      "source": [
        "headers = {\n",
        "    'User-agent':\n",
        "    \"Mozilla/5.0 (Windows NT 10.0; Win64; x64) AppleWebKit/537.36 (KHTML, like Gecko) Chrome/70.0.3538.102 Safari/537.36 Edge/18.19582\"\n",
        "}\n",
        "\n",
        "params = {\n",
        "  \"q\": \"reinforcement learning\",\n",
        "  \"hl\": \"en\",\n",
        "}\n",
        "\n",
        "html = requests.get('https://scholar.google.com/scholar?start=0', headers=headers, params=params).text\n",
        "soup = BeautifulSoup(html, 'lxml')\n",
        "\n",
        "for result in soup.select('.gs_ab_mdw'):\n",
        "  print(result.text)"
      ],
      "metadata": {
        "colab": {
          "base_uri": "https://localhost:8080/"
        },
        "id": "OpOdsgtm34Rl",
        "outputId": "9995f696-8062-4fdf-8271-225f50230a66"
      },
      "execution_count": null,
      "outputs": [
        {
          "output_type": "stream",
          "name": "stdout",
          "text": [
            "ArticlesScholar\n",
            "About 3,160,000 results (0.04 sec)\n"
          ]
        }
      ]
    },
    {
      "cell_type": "markdown",
      "source": [
        "# Web Scraping"
      ],
      "metadata": {
        "id": "MhmdIwUp3_eg"
      }
    },
    {
      "cell_type": "markdown",
      "source": [
        "## Scrape just PDF links"
      ],
      "metadata": {
        "id": "10ifPNsg4H8N"
      }
    },
    {
      "cell_type": "code",
      "source": [
        "# Scrape just PDF links\n",
        "for pdf_link in soup.select('.gs_or_ggsm a'):\n",
        "  pdf_file_link = pdf_link['href']\n",
        "  print(pdf_file_link)"
      ],
      "metadata": {
        "colab": {
          "base_uri": "https://localhost:8080/"
        },
        "id": "RXQJfj1a4AEU",
        "outputId": "1d297155-7db1-4479-c3f9-a9228b090365"
      },
      "execution_count": null,
      "outputs": [
        {
          "output_type": "stream",
          "name": "stdout",
          "text": [
            "https://www.academia.edu/download/54674740/Reinforcement_Learning.pdf\n",
            "https://www.jair.org/index.php/jair/article/download/10166/24110/\n",
            "http://citeseerx.ist.psu.edu/viewdoc/download?doi=10.1.1.308.549&rep=rep1&type=pdf\n",
            "https://www-anw.cs.umass.edu/~barto/courses/cs687/Chapter%201-printable.pdf\n",
            "https://www.academia.edu/download/6985553/ivry_rev.pdf\n",
            "https://arxiv.org/pdf/1312.5602.pdf?source=post_page---------------------------\n",
            "https://arxiv.org/pdf/1811.12560.pdf%3C/p%3E\n",
            "https://ojs.aaai.org/index.php/AAAI/article/download/11694/11553\n"
          ]
        }
      ]
    },
    {
      "cell_type": "code",
      "source": [
        "# JSON data will be collected here\n",
        "data = []\n",
        "\n",
        "# Container where all needed data is located\n",
        "for result in soup.select('.gs_ri'):\n",
        "  title = result.select_one('.gs_rt').text\n",
        "  title_link = result.select_one('.gs_rt a')['href']\n",
        "  publication_info = result.select_one('.gs_a').text\n",
        "  snippet = result.select_one('.gs_rs').text\n",
        "  cited_by = result.select_one(\"a[href*=/scholar?cites=]\").text #result.select_one('#gs_res_ccl_mid .gs_nph a')['href']\n",
        "  related_articles = result.select_one(\"a[href*=/scholar?q=related=]\") #result.select_one('a:nth-child(4)')['href'] \n",
        "  try:\n",
        "    all_article_versions = result.select_one('a~ a+ .gs_nph')['href']\n",
        "  except:\n",
        "    all_article_versions = None\n",
        "\n",
        "  data.append({\n",
        "    'title': title,\n",
        "    'title_link': title_link,\n",
        "    'publication_info': publication_info,\n",
        "    'snippet': snippet,\n",
        "    'cited_by': f'https://scholar.google.com{cited_by}',\n",
        "    'related_articles': f'https://scholar.google.com{related_articles}',\n",
        "    'all_article_versions': f'https://scholar.google.com{all_article_versions}',\n",
        "  })\n",
        "\n",
        "print(json.dumps(data, indent = 2, ensure_ascii = False))\n",
        "\n",
        "# Part of the JSON Output:\n",
        "'''\n",
        "[\n",
        "  {\n",
        "    \"title\": \"“What? I thought Samsung was Japanese”: accurate or not, perceived country of origin matters\",\n",
        "    \"title_link\": \"https://www.emerald.com/insight/content/doi/10.1108/02651331111167589/full/html\",\n",
        "    \"publication_info\": \"P Magnusson, SA Westjohn… - International Marketing …, 2011 - emerald.com\",\n",
        "    \"snippet\": \"Purpose–Extensive research has shown that country‐of‐origin (COO) information significantly affects product evaluations and buying behavior. Yet recently, a competing perspective has emerged suggesting that COO effects have been inflated in prior research …\",\n",
        "    \"cited_by\": \"https://scholar.google.com/scholar?cites=341074171610121811&as_sdt=2005&sciodt=0,5&hl=en\",\n",
        "    \"related_articles\": \"https://scholar.google.com/scholar?q=related:U8bh6Ca9uwQJ:scholar.google.com/&scioq=samsung&hl=en&as_sdt=0,5\",\n",
        "    \"all_article_versions\": \"https://scholar.google.com/scholar?cluster=341074171610121811&hl=en&as_sdt=0,5\"\n",
        "  }\n",
        "]\n",
        "'''\n",
        "\n",
        "# Part of PDF Links Output:\n",
        "'''\n",
        "https://www.researchgate.net/profile/Peter_Magnusson/publication/232614407_What_I_thought_Samsung_was_Japanese_Accurate_or_not_perceived_country_of_origin_matters/links/09e4150881184a6ad2000000/What-I-thought-Samsung-was-Japanese-Accurate-or-not-perceived-country-of-origin-matters.pdf\n",
        "https://www.researchgate.net/profile/Hong_Mo_Yang/publication/235291000_Supply_chain_management_six_sigma_A_management_innovation_methodology_at_the_Samsung_Group/links/56e03d0708aec4b3333d0445.pdf\n",
        "https://www.academia.edu/download/54053930/The_Strategic_Localization_of_Transnatio20170803-32468-4ntcqr.pdf\n",
        "https://mathsci2.appstate.edu/~wmcb/Class/5340/ClassNotes141/EdelmanAwards/Interfaces2002-S.pdf\n",
        "'''"
      ],
      "metadata": {
        "colab": {
          "base_uri": "https://localhost:8080/",
          "height": 1000
        },
        "id": "yqmalsjz3Pnu",
        "outputId": "aaa5f702-d6ac-41db-fca4-a701562a2a7e"
      },
      "execution_count": null,
      "outputs": [
        {
          "output_type": "stream",
          "name": "stdout",
          "text": [
            "[\n",
            "  {\n",
            "    \"title\": \"“What? I thought Samsung was Japanese”: accurate or not, perceived country of origin matters\",\n",
            "    \"title_link\": \"https://www.emerald.com/insight/content/doi/10.1108/02651331111167589/full/html\",\n",
            "    \"publication_info\": \"P Magnusson, SA Westjohn… - International Marketing …, 2011 - emerald.com\",\n",
            "    \"snippet\": \"… toward Samsung. When the consumer learns that Samsung is actually a South Korean \\nbrand, the consumer’s attitude toward Samsung is … That is, a less favorable image of South \\nKorea, in comparison with Japan, leads to a less favorable attitude toward Samsung, whereas a …\",\n",
            "    \"cited_by\": \"https://scholar.google.comCited by 345\",\n",
            "    \"related_articles\": \"https://scholar.google.comNone\",\n",
            "    \"all_article_versions\": \"https://scholar.google.comNone\"\n",
            "  },\n",
            "  {\n",
            "    \"title\": \"[BOOK][B] Sony vs Samsung: The Inside Story of the Electronics Giants' Battle For Global Supremacy\",\n",
            "    \"title_link\": \"https://books.google.com/books?hl=en&lr=&id=blWb6tslZb8C&oi=fnd&pg=PT9&dq=samsung&ots=BIE4VAj3yF&sig=FxNaW3Y5VcWgvnhD8M4kxg8gt_o\",\n",
            "    \"publication_info\": \"SJ Chang - 2011 - books.google.com\",\n",
            "    \"snippet\": \"… the true reasons behind Sony's decline and Samsung's rise. Contrary to popular belief, … has \\nwritten a fascinating comparison of Sony and Samsung that will be valuable to anyone … , this \\nbook analyzes major strategic decisions of Samsung and Sony and highlights organizational …\",\n",
            "    \"cited_by\": \"https://scholar.google.comCited by 118\",\n",
            "    \"related_articles\": \"https://scholar.google.comNone\",\n",
            "    \"all_article_versions\": \"https://scholar.google.comNone\"\n",
            "  },\n",
            "  {\n",
            "    \"title\": \"Knowledge management and process innovation: the knowledge transformation path in Samsung SDI\",\n",
            "    \"title_link\": \"https://www.emerald.com/insight/content/doi/10.1108/13673270210450582/full/html\",\n",
            "    \"publication_info\": \"S Jang, K Hong, GW Bock, I Kim - Journal of knowledge management, 2002 - emerald.com\",\n",
            "    \"snippet\": \"… However, the case study of Samsung SDI shows that in the real world KM is deeply linked \\nwith PI. For illustrating the KM strategy of Samsung SDI, uses the term “PI‐based KM”. Sheds \\nlight on two points: the features of process knowledge can be studied in the sense that …\",\n",
            "    \"cited_by\": \"https://scholar.google.comCited by 146\",\n",
            "    \"related_articles\": \"https://scholar.google.comNone\",\n",
            "    \"all_article_versions\": \"https://scholar.google.comNone\"\n",
            "  },\n",
            "  {\n",
            "    \"title\": \"Brand image and product price; Its impact for Samsung smartphone purchasing decision\",\n",
            "    \"title_link\": \"https://www.sciencedirect.com/science/article/pii/S1877042816300696\",\n",
            "    \"publication_info\": \"T Djatmiko, R Pradana - Procedia-Social and Behavioral Sciences, 2016 - Elsevier\",\n",
            "    \"snippet\": \"… growing up, Samsung that was a trading company exporting various products developed \\ninto a multinational company. Samsung was separated … According to Samsung's founder, the \\nmeaning of the Korean hanja word Samsung is 9triYstar9 or 9three stars9. The word 9three9 …\",\n",
            "    \"cited_by\": \"https://scholar.google.comCited by 154\",\n",
            "    \"related_articles\": \"https://scholar.google.comNone\",\n",
            "    \"all_article_versions\": \"https://scholar.google.comNone\"\n",
            "  },\n",
            "  {\n",
            "    \"title\": \"Supply chain management six sigma: a management innovation methodology at the Samsung Group\",\n",
            "    \"title_link\": \"https://www.emerald.com/insight/content/doi/10.1108/13598540710737271/full/html?fullSc=1&mbSc=1&fullSc=1\",\n",
            "    \"publication_info\": \"HM Yang, BS Choi, HJ Park, MS Suh… - … Chain Management: An …, 2007 - emerald.com\",\n",
            "    \"snippet\": \"… This paper seeks to introduce a six‐sigma based methodology for the SCM domain \\nwhich was developed and has been used in Samsung. … This paper shows that a \\nmethodology such as Samsung's SCM six sigma can be the key to conducting SCM projects …\",\n",
            "    \"cited_by\": \"https://scholar.google.comCited by 115\",\n",
            "    \"related_articles\": \"https://scholar.google.comNone\",\n",
            "    \"all_article_versions\": \"https://scholar.google.comNone\"\n",
            "  },\n",
            "  {\n",
            "    \"title\": \"The strategic localization of transnational retailers: the case of Samsung‐Tesco in South Korea\",\n",
            "    \"title_link\": \"https://onlinelibrary.wiley.com/doi/abs/10.1111/j.1944-8287.2006.tb00288.x\",\n",
            "    \"publication_info\": \"NM Coe, YS Lee - Economic Geography, 2006 - Wiley Online Library\",\n",
            "    \"snippet\": \"This article contributes to the small but growing geographic literature on the internationalization \\nof retailing by exploring the strategic localization of transnational retailers. While it has long \\nbeen recognized that firms in many different sectors localize their activities to meet the …\",\n",
            "    \"cited_by\": \"https://scholar.google.comCited by 195\",\n",
            "    \"related_articles\": \"https://scholar.google.comNone\",\n",
            "    \"all_article_versions\": \"https://scholar.google.comNone\"\n",
            "  },\n",
            "  {\n",
            "    \"title\": \"SLIM: Short cycle time and low inventory in manufacturing at Samsung Electronics\",\n",
            "    \"title_link\": \"https://pubsonline.informs.org/doi/abs/10.1287/inte.32.1.61.15\",\n",
            "    \"publication_info\": \"RC Leachman, J Kang, V Lin - Interfaces, 2002 - pubsonline.informs.org\",\n",
            "    \"snippet\": \"SLIM is a set of methodologies and scheduling applications for managing cycle time in \\nsemiconductor manufacturing. SLIM includes methodology for calculating target cycle times \\nand target WIP levels for individual manufacturing steps, heuristic algorithms for factory floor …\",\n",
            "    \"cited_by\": \"https://scholar.google.comCited by 136\",\n",
            "    \"related_articles\": \"https://scholar.google.comNone\",\n",
            "    \"all_article_versions\": \"https://scholar.google.comNone\"\n",
            "  },\n",
            "  {\n",
            "    \"title\": \"The competitiveness of multinational firms: A case study of Samsung Electronics and Sony\",\n",
            "    \"title_link\": \"https://www.jstor.org/stable/43107084\",\n",
            "    \"publication_info\": \"HC Moon, D Lee - Journal of International and Area Studies, 2004 - JSTOR\",\n",
            "    \"snippet\": \"Recently Samsung Electronics Co., Ltd. (SEC) has made headlines in the mass media for \\nits outstanding performance. Reputable international newspapers and magazines have \\nsaid that it was a shock to see SEC transform from 'low-cost and often unreliable' into ' high-quality …\",\n",
            "    \"cited_by\": \"https://scholar.google.comCited by 60\",\n",
            "    \"related_articles\": \"https://scholar.google.comNone\",\n",
            "    \"all_article_versions\": \"https://scholar.google.comNone\"\n",
            "  },\n",
            "  {\n",
            "    \"title\": \"3D modelling with the Samsung Gear 360\",\n",
            "    \"title_link\": \"https://re.public.polimi.it/handle/11311/1060942\",\n",
            "    \"publication_info\": \"L Barazzetti, M Previtali… - 2017 TC II and CIPA-3D …, 2017 - re.public.polimi.it\",\n",
            "    \"snippet\": \"… The camera considered in this paper is the Samsung Gear 360 (Fig. 1), which has a dual … a \\nBluetooth connection with a Samsung mobile phone (such as the Samsung S6 or S7) to get … \\ncan be carried out with the mobile phone app Samsung 360 or with the desktop software Gear …\",\n",
            "    \"cited_by\": \"https://scholar.google.comCited by 33\",\n",
            "    \"related_articles\": \"https://scholar.google.comNone\",\n",
            "    \"all_article_versions\": \"https://scholar.google.comNone\"\n",
            "  },\n",
            "  {\n",
            "    \"title\": \"Dynamic capabilities, entrepreneurial rent-seeking and the investment development path: The case of Samsung\",\n",
            "    \"title_link\": \"https://www.sciencedirect.com/science/article/pii/S1075425307000476\",\n",
            "    \"publication_info\": \"J Lee, J Slater - Journal of International Management, 2007 - Elsevier\",\n",
            "    \"snippet\": \"… In Section 6, we expound and analyse the case study of Samsung, narrating the company's \\nrise to become a top-tier semiconductor producer and suggesting a few factors critical in its \\nsuccess as well as its motives for outward FDI. Section 7 concludes with a summary and …\",\n",
            "    \"cited_by\": \"https://scholar.google.comCited by 127\",\n",
            "    \"related_articles\": \"https://scholar.google.comNone\",\n",
            "    \"all_article_versions\": \"https://scholar.google.comNone\"\n",
            "  }\n",
            "]\n"
          ]
        },
        {
          "output_type": "execute_result",
          "data": {
            "application/vnd.google.colaboratory.intrinsic+json": {
              "type": "string"
            },
            "text/plain": [
              "'\\nhttps://www.researchgate.net/profile/Peter_Magnusson/publication/232614407_What_I_thought_Samsung_was_Japanese_Accurate_or_not_perceived_country_of_origin_matters/links/09e4150881184a6ad2000000/What-I-thought-Samsung-was-Japanese-Accurate-or-not-perceived-country-of-origin-matters.pdf\\nhttps://www.researchgate.net/profile/Hong_Mo_Yang/publication/235291000_Supply_chain_management_six_sigma_A_management_innovation_methodology_at_the_Samsung_Group/links/56e03d0708aec4b3333d0445.pdf\\nhttps://www.academia.edu/download/54053930/The_Strategic_Localization_of_Transnatio20170803-32468-4ntcqr.pdf\\nhttps://mathsci2.appstate.edu/~wmcb/Class/5340/ClassNotes141/EdelmanAwards/Interfaces2002-S.pdf\\n'"
            ]
          },
          "metadata": {},
          "execution_count": 11
        }
      ]
    }
  ]
}